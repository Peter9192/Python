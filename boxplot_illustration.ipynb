{
 "cells": [
  {
   "cell_type": "code",
   "execution_count": 14,
   "metadata": {},
   "outputs": [
    {
     "data": {
      "text/plain": [
       "<xarray.Dataset>\n",
       "Dimensions:      (height: 12, time: 210384)\n",
       "Coordinates:\n",
       "  * time         (time) datetime64[ns] 2012-01-01 2012-01-01T00:10:00 ...\n",
       "  * height       (height) float64 27.0 58.0 89.0 115.0 140.0 165.0 190.0 ...\n",
       "Data variables:\n",
       "    wspd         (time, height) float64 ...\n",
       "    wdir         (time, height) float64 ...\n",
       "    wstd         (time, height) float64 ...\n",
       "    Rho21        (time) float64 ...\n",
       "    P21          (time) float64 ...\n",
       "    RH21         (time) float64 ...\n",
       "    T21          (time) float64 ...\n",
       "    Rho90        (time) float64 ...\n",
       "    P90          (time) float64 ...\n",
       "    RH90         (time) float64 ...\n",
       "    T90          (time) float64 ...\n",
       "    SST          (time) float64 ...\n",
       "    SLP          (time) float64 ...\n",
       "    PT90         (time) float64 ...\n",
       "    PT21         (time) float64 ...\n",
       "    PT0          (time) float64 ...\n",
       "    SVP90        (time) float64 ...\n",
       "    SVP21        (time) float64 ...\n",
       "    SVP0         (time) float64 ...\n",
       "    SMR90        (time) float64 ...\n",
       "    SMR21        (time) float64 ...\n",
       "    SMR0         (time) float64 ...\n",
       "    MR90         (time) float64 ...\n",
       "    MR21         (time) float64 ...\n",
       "    MR0          (time) float64 ...\n",
       "    VPT90        (time) float64 ...\n",
       "    VPT21        (time) float64 ...\n",
       "    VPT0         (time) float64 ...\n",
       "    VPT90-VPT21  (time) float64 ...\n",
       "    VPT21-VPT0   (time) float64 ...\n",
       "    Rib_90-21    (time) float64 ...\n",
       "    Rib_21-0     (time) float64 ...\n",
       "    WHS          (time) float64 ...\n",
       "    WPS          (time) float64 ...\n",
       "    WDS          (time) float64 ...\n",
       "    Charnock     (time) float64 ..."
      ]
     },
     "execution_count": 14,
     "metadata": {},
     "output_type": "execute_result"
    }
   ],
   "source": [
    "import xarray as xr\n",
    "import pandas as pd\n",
    "mmij = xr.open_dataset('/home/peter/Cartesius/Chapter2/Data/MMIJ/mmij_clean.nc')\n",
    "mmij # This prints an object of type: <xarray.Dataset> "
   ]
  },
  {
   "cell_type": "code",
   "execution_count": 13,
   "metadata": {},
   "outputs": [
    {
     "data": {
      "text/plain": [
       "<xarray.DataArray 'wspd' (time: 210384, height: 12)>\n",
       "[2524608 values with dtype=float64]\n",
       "Coordinates:\n",
       "  * time     (time) datetime64[ns] 2012-01-01 2012-01-01T00:10:00 ...\n",
       "  * height   (height) float64 27.0 58.0 89.0 115.0 140.0 165.0 190.0 215.0 ..."
      ]
     },
     "execution_count": 13,
     "metadata": {},
     "output_type": "execute_result"
    }
   ],
   "source": [
    "mmij.wspd # This prints an object of type: <xarray.DataArray> "
   ]
  },
  {
   "cell_type": "code",
   "execution_count": 10,
   "metadata": {},
   "outputs": [
    {
     "data": {
      "text/plain": [
       "<xarray.DataArray 'wspd' (time: 210384)>\n",
       "[210384 values with dtype=float64]\n",
       "Coordinates:\n",
       "  * time     (time) datetime64[ns] 2012-01-01 2012-01-01T00:10:00 ...\n",
       "    height   float64 27.0"
      ]
     },
     "execution_count": 10,
     "metadata": {},
     "output_type": "execute_result"
    }
   ],
   "source": [
    "mmij.wspd.sel(height=27) # This prints an object of type: <xarray.DataArray> "
   ]
  },
  {
   "cell_type": "code",
   "execution_count": 11,
   "metadata": {},
   "outputs": [
    {
     "data": {
      "text/plain": [
       "<xarray.core.groupby.DataArrayGroupBy at 0x7f0191be3390>"
      ]
     },
     "execution_count": 11,
     "metadata": {},
     "output_type": "execute_result"
    }
   ],
   "source": [
    "mmij.wspd.sel(height=27).groupby('time.season') # This prints an object of type: <xarray....Groupby> "
   ]
  },
  {
   "cell_type": "code",
   "execution_count": 12,
   "metadata": {},
   "outputs": [
    {
     "data": {
      "text/plain": [
       "<xarray.DataArray 'wspd' (season: 4)>\n",
       "array([10.954881,  7.110926,  8.096389,  9.20328 ])\n",
       "Coordinates:\n",
       "    height   float64 27.0\n",
       "  * season   (season) object 'DJF' 'JJA' 'MAM' 'SON'"
      ]
     },
     "execution_count": 12,
     "metadata": {},
     "output_type": "execute_result"
    }
   ],
   "source": [
    "mmij.wspd.sel(height=27).groupby('time.season').mean() # This prints an object of type: <xarray.DataArray> "
   ]
  },
  {
   "cell_type": "markdown",
   "metadata": {},
   "source": [
    "# YOUR CONFUSION ARISES HERE!!!\n",
    "groupby(...) returns grouped data, so ALL values in a given season. This can be used to make boxplots.\n",
    "\n",
    "groupby().mean() aggregates the grouped data, by computing the mean of each group, leaving you with only one value per season. This cannot be used to make boxplots.\n",
    "\n",
    "pandas should be able to create boxplots based on the grouped() object. Let's try that for xarray:"
   ]
  },
  {
   "cell_type": "code",
   "execution_count": 17,
   "metadata": {},
   "outputs": [
    {
     "ename": "AttributeError",
     "evalue": "'DataArrayGroupBy' object has no attribute 'boxplot'",
     "output_type": "error",
     "traceback": [
      "\u001b[0;31m---------------------------------------------------------------------------\u001b[0m",
      "\u001b[0;31mAttributeError\u001b[0m                            Traceback (most recent call last)",
      "\u001b[0;32m<ipython-input-17-1482088dd38e>\u001b[0m in \u001b[0;36m<module>\u001b[0;34m()\u001b[0m\n\u001b[0;32m----> 1\u001b[0;31m \u001b[0mmmij\u001b[0m\u001b[0;34m.\u001b[0m\u001b[0mwspd\u001b[0m\u001b[0;34m.\u001b[0m\u001b[0msel\u001b[0m\u001b[0;34m(\u001b[0m\u001b[0mheight\u001b[0m\u001b[0;34m=\u001b[0m\u001b[0;36m27\u001b[0m\u001b[0;34m)\u001b[0m\u001b[0;34m.\u001b[0m\u001b[0mgroupby\u001b[0m\u001b[0;34m(\u001b[0m\u001b[0;34m'time.season'\u001b[0m\u001b[0;34m)\u001b[0m\u001b[0;34m.\u001b[0m\u001b[0mboxplot\u001b[0m\u001b[0;34m(\u001b[0m\u001b[0;34m)\u001b[0m\u001b[0;34m\u001b[0m\u001b[0m\n\u001b[0m",
      "\u001b[0;31mAttributeError\u001b[0m: 'DataArrayGroupBy' object has no attribute 'boxplot'"
     ]
    }
   ],
   "source": [
    "mmij.wspd.sel(height=27).groupby('time.season').boxplot() "
   ]
  },
  {
   "cell_type": "markdown",
   "metadata": {},
   "source": [
    "Apparently, xarray cannot do this. So let's try it in pandas:"
   ]
  },
  {
   "cell_type": "code",
   "execution_count": 71,
   "metadata": {},
   "outputs": [
    {
     "data": {
      "text/html": [
       "<div>\n",
       "<style scoped>\n",
       "    .dataframe tbody tr th:only-of-type {\n",
       "        vertical-align: middle;\n",
       "    }\n",
       "\n",
       "    .dataframe tbody tr th {\n",
       "        vertical-align: top;\n",
       "    }\n",
       "\n",
       "    .dataframe thead th {\n",
       "        text-align: right;\n",
       "    }\n",
       "</style>\n",
       "<table border=\"1\" class=\"dataframe\">\n",
       "  <thead>\n",
       "    <tr style=\"text-align: right;\">\n",
       "      <th></th>\n",
       "      <th>height</th>\n",
       "      <th>wspd</th>\n",
       "    </tr>\n",
       "    <tr>\n",
       "      <th>time</th>\n",
       "      <th></th>\n",
       "      <th></th>\n",
       "    </tr>\n",
       "  </thead>\n",
       "  <tbody>\n",
       "    <tr>\n",
       "      <th>2012-01-01 00:00:00</th>\n",
       "      <td>27.0</td>\n",
       "      <td>12.24590</td>\n",
       "    </tr>\n",
       "    <tr>\n",
       "      <th>2012-01-01 00:10:00</th>\n",
       "      <td>27.0</td>\n",
       "      <td>13.18670</td>\n",
       "    </tr>\n",
       "    <tr>\n",
       "      <th>2012-01-01 00:20:00</th>\n",
       "      <td>27.0</td>\n",
       "      <td>13.44740</td>\n",
       "    </tr>\n",
       "    <tr>\n",
       "      <th>2012-01-01 00:30:00</th>\n",
       "      <td>27.0</td>\n",
       "      <td>13.95770</td>\n",
       "    </tr>\n",
       "    <tr>\n",
       "      <th>2012-01-01 00:40:00</th>\n",
       "      <td>27.0</td>\n",
       "      <td>13.38290</td>\n",
       "    </tr>\n",
       "    <tr>\n",
       "      <th>2012-01-01 00:50:00</th>\n",
       "      <td>27.0</td>\n",
       "      <td>13.38070</td>\n",
       "    </tr>\n",
       "    <tr>\n",
       "      <th>2012-01-01 01:00:00</th>\n",
       "      <td>27.0</td>\n",
       "      <td>13.48100</td>\n",
       "    </tr>\n",
       "    <tr>\n",
       "      <th>2012-01-01 01:10:00</th>\n",
       "      <td>27.0</td>\n",
       "      <td>13.16870</td>\n",
       "    </tr>\n",
       "    <tr>\n",
       "      <th>2012-01-01 01:20:00</th>\n",
       "      <td>27.0</td>\n",
       "      <td>12.65880</td>\n",
       "    </tr>\n",
       "    <tr>\n",
       "      <th>2012-01-01 01:30:00</th>\n",
       "      <td>27.0</td>\n",
       "      <td>12.11050</td>\n",
       "    </tr>\n",
       "    <tr>\n",
       "      <th>2012-01-01 01:40:00</th>\n",
       "      <td>27.0</td>\n",
       "      <td>12.45760</td>\n",
       "    </tr>\n",
       "    <tr>\n",
       "      <th>2012-01-01 01:50:00</th>\n",
       "      <td>27.0</td>\n",
       "      <td>12.63400</td>\n",
       "    </tr>\n",
       "    <tr>\n",
       "      <th>2012-01-01 02:00:00</th>\n",
       "      <td>27.0</td>\n",
       "      <td>12.72640</td>\n",
       "    </tr>\n",
       "    <tr>\n",
       "      <th>2012-01-01 02:10:00</th>\n",
       "      <td>27.0</td>\n",
       "      <td>12.35400</td>\n",
       "    </tr>\n",
       "    <tr>\n",
       "      <th>2012-01-01 02:20:00</th>\n",
       "      <td>27.0</td>\n",
       "      <td>12.61300</td>\n",
       "    </tr>\n",
       "    <tr>\n",
       "      <th>2012-01-01 02:30:00</th>\n",
       "      <td>27.0</td>\n",
       "      <td>13.05900</td>\n",
       "    </tr>\n",
       "    <tr>\n",
       "      <th>2012-01-01 02:40:00</th>\n",
       "      <td>27.0</td>\n",
       "      <td>12.44540</td>\n",
       "    </tr>\n",
       "    <tr>\n",
       "      <th>2012-01-01 02:50:00</th>\n",
       "      <td>27.0</td>\n",
       "      <td>12.60900</td>\n",
       "    </tr>\n",
       "    <tr>\n",
       "      <th>2012-01-01 03:00:00</th>\n",
       "      <td>27.0</td>\n",
       "      <td>12.58380</td>\n",
       "    </tr>\n",
       "    <tr>\n",
       "      <th>2012-01-01 03:10:00</th>\n",
       "      <td>27.0</td>\n",
       "      <td>12.22800</td>\n",
       "    </tr>\n",
       "    <tr>\n",
       "      <th>2012-01-01 03:20:00</th>\n",
       "      <td>27.0</td>\n",
       "      <td>12.45040</td>\n",
       "    </tr>\n",
       "    <tr>\n",
       "      <th>2012-01-01 03:30:00</th>\n",
       "      <td>27.0</td>\n",
       "      <td>12.31960</td>\n",
       "    </tr>\n",
       "    <tr>\n",
       "      <th>2012-01-01 03:40:00</th>\n",
       "      <td>27.0</td>\n",
       "      <td>12.95560</td>\n",
       "    </tr>\n",
       "    <tr>\n",
       "      <th>2012-01-01 03:50:00</th>\n",
       "      <td>27.0</td>\n",
       "      <td>12.31230</td>\n",
       "    </tr>\n",
       "    <tr>\n",
       "      <th>2012-01-01 04:00:00</th>\n",
       "      <td>27.0</td>\n",
       "      <td>11.50760</td>\n",
       "    </tr>\n",
       "    <tr>\n",
       "      <th>2012-01-01 04:10:00</th>\n",
       "      <td>27.0</td>\n",
       "      <td>11.21380</td>\n",
       "    </tr>\n",
       "    <tr>\n",
       "      <th>2012-01-01 04:20:00</th>\n",
       "      <td>27.0</td>\n",
       "      <td>12.26810</td>\n",
       "    </tr>\n",
       "    <tr>\n",
       "      <th>2012-01-01 04:30:00</th>\n",
       "      <td>27.0</td>\n",
       "      <td>12.89840</td>\n",
       "    </tr>\n",
       "    <tr>\n",
       "      <th>2012-01-01 04:40:00</th>\n",
       "      <td>27.0</td>\n",
       "      <td>12.33560</td>\n",
       "    </tr>\n",
       "    <tr>\n",
       "      <th>2012-01-01 04:50:00</th>\n",
       "      <td>27.0</td>\n",
       "      <td>12.30100</td>\n",
       "    </tr>\n",
       "    <tr>\n",
       "      <th>...</th>\n",
       "      <td>...</td>\n",
       "      <td>...</td>\n",
       "    </tr>\n",
       "    <tr>\n",
       "      <th>2015-12-31 19:00:00</th>\n",
       "      <td>27.0</td>\n",
       "      <td>15.91850</td>\n",
       "    </tr>\n",
       "    <tr>\n",
       "      <th>2015-12-31 19:10:00</th>\n",
       "      <td>27.0</td>\n",
       "      <td>16.53780</td>\n",
       "    </tr>\n",
       "    <tr>\n",
       "      <th>2015-12-31 19:20:00</th>\n",
       "      <td>27.0</td>\n",
       "      <td>15.82650</td>\n",
       "    </tr>\n",
       "    <tr>\n",
       "      <th>2015-12-31 19:30:00</th>\n",
       "      <td>27.0</td>\n",
       "      <td>16.59660</td>\n",
       "    </tr>\n",
       "    <tr>\n",
       "      <th>2015-12-31 19:40:00</th>\n",
       "      <td>27.0</td>\n",
       "      <td>16.42480</td>\n",
       "    </tr>\n",
       "    <tr>\n",
       "      <th>2015-12-31 19:50:00</th>\n",
       "      <td>27.0</td>\n",
       "      <td>15.61130</td>\n",
       "    </tr>\n",
       "    <tr>\n",
       "      <th>2015-12-31 20:00:00</th>\n",
       "      <td>27.0</td>\n",
       "      <td>16.47830</td>\n",
       "    </tr>\n",
       "    <tr>\n",
       "      <th>2015-12-31 20:10:00</th>\n",
       "      <td>27.0</td>\n",
       "      <td>16.52590</td>\n",
       "    </tr>\n",
       "    <tr>\n",
       "      <th>2015-12-31 20:20:00</th>\n",
       "      <td>27.0</td>\n",
       "      <td>15.65110</td>\n",
       "    </tr>\n",
       "    <tr>\n",
       "      <th>2015-12-31 20:30:00</th>\n",
       "      <td>27.0</td>\n",
       "      <td>16.12000</td>\n",
       "    </tr>\n",
       "    <tr>\n",
       "      <th>2015-12-31 20:40:00</th>\n",
       "      <td>27.0</td>\n",
       "      <td>16.12320</td>\n",
       "    </tr>\n",
       "    <tr>\n",
       "      <th>2015-12-31 20:50:00</th>\n",
       "      <td>27.0</td>\n",
       "      <td>16.57220</td>\n",
       "    </tr>\n",
       "    <tr>\n",
       "      <th>2015-12-31 21:00:00</th>\n",
       "      <td>27.0</td>\n",
       "      <td>17.58220</td>\n",
       "    </tr>\n",
       "    <tr>\n",
       "      <th>2015-12-31 21:10:00</th>\n",
       "      <td>27.0</td>\n",
       "      <td>17.02910</td>\n",
       "    </tr>\n",
       "    <tr>\n",
       "      <th>2015-12-31 21:20:00</th>\n",
       "      <td>27.0</td>\n",
       "      <td>18.13790</td>\n",
       "    </tr>\n",
       "    <tr>\n",
       "      <th>2015-12-31 21:30:00</th>\n",
       "      <td>27.0</td>\n",
       "      <td>18.47070</td>\n",
       "    </tr>\n",
       "    <tr>\n",
       "      <th>2015-12-31 21:40:00</th>\n",
       "      <td>27.0</td>\n",
       "      <td>18.12610</td>\n",
       "    </tr>\n",
       "    <tr>\n",
       "      <th>2015-12-31 21:50:00</th>\n",
       "      <td>27.0</td>\n",
       "      <td>15.83160</td>\n",
       "    </tr>\n",
       "    <tr>\n",
       "      <th>2015-12-31 22:00:00</th>\n",
       "      <td>27.0</td>\n",
       "      <td>13.48810</td>\n",
       "    </tr>\n",
       "    <tr>\n",
       "      <th>2015-12-31 22:10:00</th>\n",
       "      <td>27.0</td>\n",
       "      <td>11.79490</td>\n",
       "    </tr>\n",
       "    <tr>\n",
       "      <th>2015-12-31 22:20:00</th>\n",
       "      <td>27.0</td>\n",
       "      <td>10.03240</td>\n",
       "    </tr>\n",
       "    <tr>\n",
       "      <th>2015-12-31 22:30:00</th>\n",
       "      <td>27.0</td>\n",
       "      <td>9.63968</td>\n",
       "    </tr>\n",
       "    <tr>\n",
       "      <th>2015-12-31 22:40:00</th>\n",
       "      <td>27.0</td>\n",
       "      <td>10.90550</td>\n",
       "    </tr>\n",
       "    <tr>\n",
       "      <th>2015-12-31 22:50:00</th>\n",
       "      <td>27.0</td>\n",
       "      <td>10.71880</td>\n",
       "    </tr>\n",
       "    <tr>\n",
       "      <th>2015-12-31 23:00:00</th>\n",
       "      <td>27.0</td>\n",
       "      <td>11.05940</td>\n",
       "    </tr>\n",
       "    <tr>\n",
       "      <th>2015-12-31 23:10:00</th>\n",
       "      <td>27.0</td>\n",
       "      <td>13.26390</td>\n",
       "    </tr>\n",
       "    <tr>\n",
       "      <th>2015-12-31 23:20:00</th>\n",
       "      <td>27.0</td>\n",
       "      <td>10.67950</td>\n",
       "    </tr>\n",
       "    <tr>\n",
       "      <th>2015-12-31 23:30:00</th>\n",
       "      <td>27.0</td>\n",
       "      <td>11.55930</td>\n",
       "    </tr>\n",
       "    <tr>\n",
       "      <th>2015-12-31 23:40:00</th>\n",
       "      <td>27.0</td>\n",
       "      <td>13.56320</td>\n",
       "    </tr>\n",
       "    <tr>\n",
       "      <th>2015-12-31 23:50:00</th>\n",
       "      <td>27.0</td>\n",
       "      <td>13.42810</td>\n",
       "    </tr>\n",
       "  </tbody>\n",
       "</table>\n",
       "<p>210384 rows × 2 columns</p>\n",
       "</div>"
      ],
      "text/plain": [
       "                     height      wspd\n",
       "time                                 \n",
       "2012-01-01 00:00:00    27.0  12.24590\n",
       "2012-01-01 00:10:00    27.0  13.18670\n",
       "2012-01-01 00:20:00    27.0  13.44740\n",
       "2012-01-01 00:30:00    27.0  13.95770\n",
       "2012-01-01 00:40:00    27.0  13.38290\n",
       "2012-01-01 00:50:00    27.0  13.38070\n",
       "2012-01-01 01:00:00    27.0  13.48100\n",
       "2012-01-01 01:10:00    27.0  13.16870\n",
       "2012-01-01 01:20:00    27.0  12.65880\n",
       "2012-01-01 01:30:00    27.0  12.11050\n",
       "2012-01-01 01:40:00    27.0  12.45760\n",
       "2012-01-01 01:50:00    27.0  12.63400\n",
       "2012-01-01 02:00:00    27.0  12.72640\n",
       "2012-01-01 02:10:00    27.0  12.35400\n",
       "2012-01-01 02:20:00    27.0  12.61300\n",
       "2012-01-01 02:30:00    27.0  13.05900\n",
       "2012-01-01 02:40:00    27.0  12.44540\n",
       "2012-01-01 02:50:00    27.0  12.60900\n",
       "2012-01-01 03:00:00    27.0  12.58380\n",
       "2012-01-01 03:10:00    27.0  12.22800\n",
       "2012-01-01 03:20:00    27.0  12.45040\n",
       "2012-01-01 03:30:00    27.0  12.31960\n",
       "2012-01-01 03:40:00    27.0  12.95560\n",
       "2012-01-01 03:50:00    27.0  12.31230\n",
       "2012-01-01 04:00:00    27.0  11.50760\n",
       "2012-01-01 04:10:00    27.0  11.21380\n",
       "2012-01-01 04:20:00    27.0  12.26810\n",
       "2012-01-01 04:30:00    27.0  12.89840\n",
       "2012-01-01 04:40:00    27.0  12.33560\n",
       "2012-01-01 04:50:00    27.0  12.30100\n",
       "...                     ...       ...\n",
       "2015-12-31 19:00:00    27.0  15.91850\n",
       "2015-12-31 19:10:00    27.0  16.53780\n",
       "2015-12-31 19:20:00    27.0  15.82650\n",
       "2015-12-31 19:30:00    27.0  16.59660\n",
       "2015-12-31 19:40:00    27.0  16.42480\n",
       "2015-12-31 19:50:00    27.0  15.61130\n",
       "2015-12-31 20:00:00    27.0  16.47830\n",
       "2015-12-31 20:10:00    27.0  16.52590\n",
       "2015-12-31 20:20:00    27.0  15.65110\n",
       "2015-12-31 20:30:00    27.0  16.12000\n",
       "2015-12-31 20:40:00    27.0  16.12320\n",
       "2015-12-31 20:50:00    27.0  16.57220\n",
       "2015-12-31 21:00:00    27.0  17.58220\n",
       "2015-12-31 21:10:00    27.0  17.02910\n",
       "2015-12-31 21:20:00    27.0  18.13790\n",
       "2015-12-31 21:30:00    27.0  18.47070\n",
       "2015-12-31 21:40:00    27.0  18.12610\n",
       "2015-12-31 21:50:00    27.0  15.83160\n",
       "2015-12-31 22:00:00    27.0  13.48810\n",
       "2015-12-31 22:10:00    27.0  11.79490\n",
       "2015-12-31 22:20:00    27.0  10.03240\n",
       "2015-12-31 22:30:00    27.0   9.63968\n",
       "2015-12-31 22:40:00    27.0  10.90550\n",
       "2015-12-31 22:50:00    27.0  10.71880\n",
       "2015-12-31 23:00:00    27.0  11.05940\n",
       "2015-12-31 23:10:00    27.0  13.26390\n",
       "2015-12-31 23:20:00    27.0  10.67950\n",
       "2015-12-31 23:30:00    27.0  11.55930\n",
       "2015-12-31 23:40:00    27.0  13.56320\n",
       "2015-12-31 23:50:00    27.0  13.42810\n",
       "\n",
       "[210384 rows x 2 columns]"
      ]
     },
     "execution_count": 71,
     "metadata": {},
     "output_type": "execute_result"
    }
   ],
   "source": [
    "mmij.wspd.sel(height=27).to_dataframe() # This prints a pandas.Series object"
   ]
  },
  {
   "cell_type": "code",
   "execution_count": 72,
   "metadata": {},
   "outputs": [
    {
     "ename": "KeyError",
     "evalue": "'time.season'",
     "output_type": "error",
     "traceback": [
      "\u001b[0;31m---------------------------------------------------------------------------\u001b[0m",
      "\u001b[0;31mKeyError\u001b[0m                                  Traceback (most recent call last)",
      "\u001b[0;32m<ipython-input-72-a4dc0e9a1eef>\u001b[0m in \u001b[0;36m<module>\u001b[0;34m()\u001b[0m\n\u001b[0;32m----> 1\u001b[0;31m \u001b[0mmmij\u001b[0m\u001b[0;34m.\u001b[0m\u001b[0mwspd\u001b[0m\u001b[0;34m.\u001b[0m\u001b[0msel\u001b[0m\u001b[0;34m(\u001b[0m\u001b[0mheight\u001b[0m\u001b[0;34m=\u001b[0m\u001b[0;36m27\u001b[0m\u001b[0;34m)\u001b[0m\u001b[0;34m.\u001b[0m\u001b[0mto_dataframe\u001b[0m\u001b[0;34m(\u001b[0m\u001b[0;34m)\u001b[0m\u001b[0;34m.\u001b[0m\u001b[0mgroupby\u001b[0m\u001b[0;34m(\u001b[0m\u001b[0;34m'time.season'\u001b[0m\u001b[0;34m)\u001b[0m\u001b[0;34m\u001b[0m\u001b[0m\n\u001b[0m",
      "\u001b[0;32m/home/peter/miniconda2/lib/python2.7/site-packages/pandas/core/generic.pyc\u001b[0m in \u001b[0;36mgroupby\u001b[0;34m(self, by, axis, level, as_index, sort, group_keys, squeeze, **kwargs)\u001b[0m\n\u001b[1;32m   5160\u001b[0m         return groupby(self, by=by, axis=axis, level=level, as_index=as_index,\n\u001b[1;32m   5161\u001b[0m                        \u001b[0msort\u001b[0m\u001b[0;34m=\u001b[0m\u001b[0msort\u001b[0m\u001b[0;34m,\u001b[0m \u001b[0mgroup_keys\u001b[0m\u001b[0;34m=\u001b[0m\u001b[0mgroup_keys\u001b[0m\u001b[0;34m,\u001b[0m \u001b[0msqueeze\u001b[0m\u001b[0;34m=\u001b[0m\u001b[0msqueeze\u001b[0m\u001b[0;34m,\u001b[0m\u001b[0;34m\u001b[0m\u001b[0m\n\u001b[0;32m-> 5162\u001b[0;31m                        **kwargs)\n\u001b[0m\u001b[1;32m   5163\u001b[0m \u001b[0;34m\u001b[0m\u001b[0m\n\u001b[1;32m   5164\u001b[0m     def asfreq(self, freq, method=None, how=None, normalize=False,\n",
      "\u001b[0;32m/home/peter/miniconda2/lib/python2.7/site-packages/pandas/core/groupby.pyc\u001b[0m in \u001b[0;36mgroupby\u001b[0;34m(obj, by, **kwds)\u001b[0m\n\u001b[1;32m   1846\u001b[0m         \u001b[0;32mraise\u001b[0m \u001b[0mTypeError\u001b[0m\u001b[0;34m(\u001b[0m\u001b[0;34m'invalid type: %s'\u001b[0m \u001b[0;34m%\u001b[0m \u001b[0mtype\u001b[0m\u001b[0;34m(\u001b[0m\u001b[0mobj\u001b[0m\u001b[0;34m)\u001b[0m\u001b[0;34m)\u001b[0m\u001b[0;34m\u001b[0m\u001b[0m\n\u001b[1;32m   1847\u001b[0m \u001b[0;34m\u001b[0m\u001b[0m\n\u001b[0;32m-> 1848\u001b[0;31m     \u001b[0;32mreturn\u001b[0m \u001b[0mklass\u001b[0m\u001b[0;34m(\u001b[0m\u001b[0mobj\u001b[0m\u001b[0;34m,\u001b[0m \u001b[0mby\u001b[0m\u001b[0;34m,\u001b[0m \u001b[0;34m**\u001b[0m\u001b[0mkwds\u001b[0m\u001b[0;34m)\u001b[0m\u001b[0;34m\u001b[0m\u001b[0m\n\u001b[0m\u001b[1;32m   1849\u001b[0m \u001b[0;34m\u001b[0m\u001b[0m\n\u001b[1;32m   1850\u001b[0m \u001b[0;34m\u001b[0m\u001b[0m\n",
      "\u001b[0;32m/home/peter/miniconda2/lib/python2.7/site-packages/pandas/core/groupby.pyc\u001b[0m in \u001b[0;36m__init__\u001b[0;34m(self, obj, keys, axis, level, grouper, exclusions, selection, as_index, sort, group_keys, squeeze, **kwargs)\u001b[0m\n\u001b[1;32m    514\u001b[0m                                                     \u001b[0mlevel\u001b[0m\u001b[0;34m=\u001b[0m\u001b[0mlevel\u001b[0m\u001b[0;34m,\u001b[0m\u001b[0;34m\u001b[0m\u001b[0m\n\u001b[1;32m    515\u001b[0m                                                     \u001b[0msort\u001b[0m\u001b[0;34m=\u001b[0m\u001b[0msort\u001b[0m\u001b[0;34m,\u001b[0m\u001b[0;34m\u001b[0m\u001b[0m\n\u001b[0;32m--> 516\u001b[0;31m                                                     mutated=self.mutated)\n\u001b[0m\u001b[1;32m    517\u001b[0m \u001b[0;34m\u001b[0m\u001b[0m\n\u001b[1;32m    518\u001b[0m         \u001b[0mself\u001b[0m\u001b[0;34m.\u001b[0m\u001b[0mobj\u001b[0m \u001b[0;34m=\u001b[0m \u001b[0mobj\u001b[0m\u001b[0;34m\u001b[0m\u001b[0m\n",
      "\u001b[0;32m/home/peter/miniconda2/lib/python2.7/site-packages/pandas/core/groupby.pyc\u001b[0m in \u001b[0;36m_get_grouper\u001b[0;34m(obj, key, axis, level, sort, mutated, validate)\u001b[0m\n\u001b[1;32m   2932\u001b[0m                 \u001b[0min_axis\u001b[0m\u001b[0;34m,\u001b[0m \u001b[0mname\u001b[0m\u001b[0;34m,\u001b[0m \u001b[0mlevel\u001b[0m\u001b[0;34m,\u001b[0m \u001b[0mgpr\u001b[0m \u001b[0;34m=\u001b[0m \u001b[0mFalse\u001b[0m\u001b[0;34m,\u001b[0m \u001b[0mNone\u001b[0m\u001b[0;34m,\u001b[0m \u001b[0mgpr\u001b[0m\u001b[0;34m,\u001b[0m \u001b[0mNone\u001b[0m\u001b[0;34m\u001b[0m\u001b[0m\n\u001b[1;32m   2933\u001b[0m             \u001b[0;32melse\u001b[0m\u001b[0;34m:\u001b[0m\u001b[0;34m\u001b[0m\u001b[0m\n\u001b[0;32m-> 2934\u001b[0;31m                 \u001b[0;32mraise\u001b[0m \u001b[0mKeyError\u001b[0m\u001b[0;34m(\u001b[0m\u001b[0mgpr\u001b[0m\u001b[0;34m)\u001b[0m\u001b[0;34m\u001b[0m\u001b[0m\n\u001b[0m\u001b[1;32m   2935\u001b[0m         \u001b[0;32melif\u001b[0m \u001b[0misinstance\u001b[0m\u001b[0;34m(\u001b[0m\u001b[0mgpr\u001b[0m\u001b[0;34m,\u001b[0m \u001b[0mGrouper\u001b[0m\u001b[0;34m)\u001b[0m \u001b[0;32mand\u001b[0m \u001b[0mgpr\u001b[0m\u001b[0;34m.\u001b[0m\u001b[0mkey\u001b[0m \u001b[0;32mis\u001b[0m \u001b[0;32mnot\u001b[0m \u001b[0mNone\u001b[0m\u001b[0;34m:\u001b[0m\u001b[0;34m\u001b[0m\u001b[0m\n\u001b[1;32m   2936\u001b[0m             \u001b[0;31m# Add key to exclusions\u001b[0m\u001b[0;34m\u001b[0m\u001b[0;34m\u001b[0m\u001b[0m\n",
      "\u001b[0;31mKeyError\u001b[0m: 'time.season'"
     ]
    }
   ],
   "source": [
    "mmij.wspd.sel(height=27).to_dataframe().groupby('time.season') "
   ]
  },
  {
   "cell_type": "code",
   "execution_count": null,
   "metadata": {
    "collapsed": true
   },
   "outputs": [],
   "source": [
    "Apparently, pandas cannot groupby seasons so easily. A bit of trying:"
   ]
  },
  {
   "cell_type": "code",
   "execution_count": 74,
   "metadata": {
    "collapsed": true
   },
   "outputs": [],
   "source": [
    "# let's give the pandas dataframe a name:\n",
    "df = mmij.wspd.sel(height=27).to_dataframe()"
   ]
  },
  {
   "cell_type": "code",
   "execution_count": 75,
   "metadata": {},
   "outputs": [
    {
     "data": {
      "text/plain": [
       "Int64Index([ 1,  1,  1,  1,  1,  1,  1,  1,  1,  1,\n",
       "            ...\n",
       "            12, 12, 12, 12, 12, 12, 12, 12, 12, 12],\n",
       "           dtype='int64', name=u'time', length=210384)"
      ]
     },
     "execution_count": 75,
     "metadata": {},
     "output_type": "execute_result"
    }
   ],
   "source": [
    "# This works to get the month out of the index\n",
    "df.index.month"
   ]
  },
  {
   "cell_type": "code",
   "execution_count": 47,
   "metadata": {},
   "outputs": [
    {
     "data": {
      "text/plain": [
       "'MAM'"
      ]
     },
     "execution_count": 47,
     "metadata": {},
     "output_type": "execute_result"
    }
   ],
   "source": [
    "month_num_to_season =   { 1:'DJF',  2:'DJF', \n",
    "                          3:'MAM',  4:'MAM',  5:'MAM', \n",
    "                          6:'JJA',  7:'JJA',  8:'JJA',\n",
    "                          9:'SON', 10:'SON', 11:'SON',\n",
    "                         12:'DJF'}\n",
    "\n",
    "# e.g.\n",
    "month_num_to_season.get(4)"
   ]
  },
  {
   "cell_type": "code",
   "execution_count": 76,
   "metadata": {},
   "outputs": [
    {
     "data": {
      "text/html": [
       "<div>\n",
       "<style scoped>\n",
       "    .dataframe tbody tr th:only-of-type {\n",
       "        vertical-align: middle;\n",
       "    }\n",
       "\n",
       "    .dataframe tbody tr th {\n",
       "        vertical-align: top;\n",
       "    }\n",
       "\n",
       "    .dataframe thead th {\n",
       "        text-align: right;\n",
       "    }\n",
       "</style>\n",
       "<table border=\"1\" class=\"dataframe\">\n",
       "  <thead>\n",
       "    <tr style=\"text-align: right;\">\n",
       "      <th></th>\n",
       "      <th>height</th>\n",
       "      <th>wspd</th>\n",
       "      <th>season</th>\n",
       "    </tr>\n",
       "    <tr>\n",
       "      <th>time</th>\n",
       "      <th></th>\n",
       "      <th></th>\n",
       "      <th></th>\n",
       "    </tr>\n",
       "  </thead>\n",
       "  <tbody>\n",
       "    <tr>\n",
       "      <th>2012-01-01 00:00:00</th>\n",
       "      <td>27.0</td>\n",
       "      <td>12.2459</td>\n",
       "      <td>DJF</td>\n",
       "    </tr>\n",
       "    <tr>\n",
       "      <th>2012-01-01 00:10:00</th>\n",
       "      <td>27.0</td>\n",
       "      <td>13.1867</td>\n",
       "      <td>DJF</td>\n",
       "    </tr>\n",
       "    <tr>\n",
       "      <th>2012-01-01 00:20:00</th>\n",
       "      <td>27.0</td>\n",
       "      <td>13.4474</td>\n",
       "      <td>DJF</td>\n",
       "    </tr>\n",
       "    <tr>\n",
       "      <th>2012-01-01 00:30:00</th>\n",
       "      <td>27.0</td>\n",
       "      <td>13.9577</td>\n",
       "      <td>DJF</td>\n",
       "    </tr>\n",
       "    <tr>\n",
       "      <th>2012-01-01 00:40:00</th>\n",
       "      <td>27.0</td>\n",
       "      <td>13.3829</td>\n",
       "      <td>DJF</td>\n",
       "    </tr>\n",
       "  </tbody>\n",
       "</table>\n",
       "</div>"
      ],
      "text/plain": [
       "                     height     wspd season\n",
       "time                                       \n",
       "2012-01-01 00:00:00    27.0  12.2459    DJF\n",
       "2012-01-01 00:10:00    27.0  13.1867    DJF\n",
       "2012-01-01 00:20:00    27.0  13.4474    DJF\n",
       "2012-01-01 00:30:00    27.0  13.9577    DJF\n",
       "2012-01-01 00:40:00    27.0  13.3829    DJF"
      ]
     },
     "execution_count": 76,
     "metadata": {},
     "output_type": "execute_result"
    }
   ],
   "source": [
    "df['season'] = [month_num_to_season.get(i) for i in df.index.month]\n",
    "df.head()"
   ]
  },
  {
   "cell_type": "code",
   "execution_count": 77,
   "metadata": {},
   "outputs": [],
   "source": [
    "grouped = df.groupby(seasons)"
   ]
  },
  {
   "cell_type": "code",
   "execution_count": 78,
   "metadata": {},
   "outputs": [
    {
     "data": {
      "image/png": "[encoded data removed]",
      "text/plain": [
       "<matplotlib.figure.Figure at 0x7f0191be3910>"
      ]
     },
     "metadata": {},
     "output_type": "display_data"
    }
   ],
   "source": [
    "grouped.boxplot()\n",
    "plt.show()"
   ]
  },
  {
   "cell_type": "code",
   "execution_count": 80,
   "metadata": {},
   "outputs": [
    {
     "data": {
      "image/png": "[encoded data removed]",
      "text/plain": [
       "<matplotlib.figure.Figure at 0x7f01918f6650>"
      ]
     },
     "metadata": {},
     "output_type": "display_data"
    }
   ],
   "source": [
    "grouped.boxplot(subplots=False)\n",
    "plt.show()"
   ]
  },
  {
   "cell_type": "code",
   "execution_count": 82,
   "metadata": {},
   "outputs": [
    {
     "data": {
      "image/png": "[encoded data removed]",
      "text/plain": [
       "<matplotlib.figure.Figure at 0x7f018e74f6d0>"
      ]
     },
     "metadata": {},
     "output_type": "display_data"
    }
   ],
   "source": [
    "# to get rid of the height:\n",
    "df.groupby(seasons).boxplot(subplots=False)\n",
    "plt.show()"
   ]
  },
  {
   "cell_type": "code",
   "execution_count": 88,
   "metadata": {
    "collapsed": true
   },
   "outputs": [],
   "source": [
    "import numpy as np\n",
    "import matplotlib.pyplot as plt"
   ]
  },
  {
   "cell_type": "markdown",
   "metadata": {},
   "source": [
    "# Alternatively, use the xarray route\n",
    "use groupby season to compute mean and limits etc., then plot it from those stats"
   ]
  },
  {
   "cell_type": "code",
   "execution_count": 95,
   "metadata": {},
   "outputs": [
    {
     "data": {
      "text/plain": [
       "<xarray.DataArray 'wspd' (season: 4)>\n",
       "array([0.435084, 0.336878, 0.341583, 0.352606])\n",
       "Coordinates:\n",
       "    height   float64 27.0\n",
       "  * season   (season) object 'DJF' 'JJA' 'MAM' 'SON'"
      ]
     },
     "execution_count": 95,
     "metadata": {},
     "output_type": "execute_result"
    }
   ],
   "source": [
    "# from: https://stackoverflow.com/a/47103407/6012085\n",
    "q50 = mmij.wspd.sel(height=27).groupby('time.season').reduce(np.nanpercentile, dim='time', q=0.50) #=median\n",
    "q75 = mmij.wspd.sel(height=27).groupby('time.season').reduce(np.nanpercentile, dim='time', q=0.75)\n",
    "q25 = mmij.wspd.sel(height=27).groupby('time.season').reduce(np.nanpercentile, dim='time', q=0.25)\n",
    "q99 = mmij.wspd.sel(height=27).groupby('time.season').reduce(np.nanpercentile, dim='time', q=0.99)\n",
    "q01 = mmij.wspd.sel(height=27).groupby('time.season').reduce(np.nanpercentile, dim='time', q=0.01)\n",
    "#e.g.\n",
    "q01"
   ]
  },
  {
   "cell_type": "markdown",
   "metadata": {},
   "source": [
    "Then it is possible to manually construct the boxplot like so:\n",
    "source: https://stackoverflow.com/a/35325221/6012085"
   ]
  },
  {
   "cell_type": "code",
   "execution_count": 103,
   "metadata": {},
   "outputs": [
    {
     "data": {
      "image/png": "[encoded data removed]",
      "text/plain": [
       "<matplotlib.figure.Figure at 0x7f018aba8710>"
      ]
     },
     "metadata": {},
     "output_type": "display_data"
    }
   ],
   "source": [
    "item = {}\n",
    "\n",
    "item[\"label\"] = 'DJF' # not required\n",
    "# item[\"mean\"] = 5 # not required\n",
    "item[\"med\"] = q50[0].values\n",
    "item[\"q1\"] = q25[0].values\n",
    "item[\"q3\"] = q75[0].values\n",
    "#item[\"cilo\"] = 5.3 # not required\n",
    "#item[\"cihi\"] = 5.7 # not required\n",
    "item[\"whislo\"] = q01[0].values # required      NOTE that this is normally Q25 - 3*IQR (or the minimum if it is lower)\n",
    "item[\"whishi\"] = q99[0].values # required      NOTE that this is normally Q75 + 3*IQR (or the maximum, if it is higher)\n",
    "item[\"fliers\"] = [] # required if showfliers=True\n",
    "\n",
    "stats = [item]\n",
    "\n",
    "fig, axes = plt.subplots(1, 1)\n",
    "axes.bxp(stats)\n",
    "axes.set_title('Default')\n",
    "# y_axis = [0, 1, 2, 3, 4, 5, 6, 7, 8, 9]\n",
    "# y_values = [\"0\", \"1\", \"2\", \"3\", \"4\", \"5\", \"6\", \"7\", \"8\", \"9\"]\n",
    "# plt.yticks(y_axis, y_values)\n",
    "plt.show()"
   ]
  },
  {
   "cell_type": "markdown",
   "metadata": {},
   "source": [
    "with a little playing around this should also work if you pass all the seasons at once (q50.values instead of q50[0].values) and pass the labels as q50.season.values"
   ]
  },
  {
   "cell_type": "code",
   "execution_count": 102,
   "metadata": {},
   "outputs": [
    {
     "data": {
      "text/plain": [
       "array(['DJF', 'JJA', 'MAM', 'SON'], dtype=object)"
      ]
     },
     "execution_count": 102,
     "metadata": {},
     "output_type": "execute_result"
    }
   ],
   "source": [
    "q50.season.values"
   ]
  },
  {
   "cell_type": "code",
   "execution_count": 110,
   "metadata": {},
   "outputs": [
    {
     "data": {
      "image/png": "[encoded data removed]",
      "text/plain": [
       "<matplotlib.figure.Figure at 0x7f018a323c50>"
      ]
     },
     "metadata": {},
     "output_type": "display_data"
    }
   ],
   "source": [
    "stats = []\n",
    "for i in range(4):\n",
    "\n",
    "    item = {}\n",
    "\n",
    "    item[\"label\"] = q50[i].season.values # not required\n",
    "    # item[\"mean\"] = 5 # not required\n",
    "    item[\"med\"] = q50[i].values\n",
    "    item[\"q1\"] = q25[i].values\n",
    "    item[\"q3\"] = q75[i].values\n",
    "    #item[\"cilo\"] = 5.3 # not required\n",
    "    #item[\"cihi\"] = 5.7 # not required\n",
    "    item[\"whislo\"] = q01[i].values # required      NOTE that this is normally Q25 - 3*IQR (or the minimum if it is lower)\n",
    "    item[\"whishi\"] = q99[i].values # required      NOTE that this is normally Q75 + 3*IQR (or the maximum, if it is higher)\n",
    "    item[\"fliers\"] = [] # required if showfliers=True\n",
    "\n",
    "    stats.append(item)\n",
    "\n",
    "fig, axes = plt.subplots(1, 1)\n",
    "axes.bxp(stats)\n",
    "axes.set_title('Default')\n",
    "# y_axis = [0, 1, 2, 3, 4, 5, 6, 7, 8, 9]\n",
    "# y_values = [\"0\", \"1\", \"2\", \"3\", \"4\", \"5\", \"6\", \"7\", \"8\", \"9\"]\n",
    "# plt.yticks(y_axis, y_values)\n",
    "plt.show()"
   ]
  }
 ],
 "metadata": {
  "kernelspec": {
   "display_name": "Python 2",
   "language": "python",
   "name": "python2"
  },
  "language_info": {
   "codemirror_mode": {
    "name": "ipython",
    "version": 2
   },
   "file_extension": ".py",
   "mimetype": "text/x-python",
   "name": "python",
   "nbconvert_exporter": "python",
   "pygments_lexer": "ipython2",
   "version": "2.7.13"
  }
 },
 "nbformat": 4,
 "nbformat_minor": 2
}
