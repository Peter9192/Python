{
 "cells": [
  {
   "cell_type": "markdown",
   "metadata": {},
   "source": [
    "# Ekman spiral derivation\n",
    "Upon Reynolds-averaging, the primitive equations for the atmosphere can be written as\n",
    "\n",
    "$$ \\frac{\\partial u}{\\partial t} + u_i \\frac{\\partial u}{\\partial x_i} - fv = -\\frac{1}{\\rho}\\frac{\\partial P}{\\partial x} - \\frac{\\partial \\overline{u'u'}}{\\partial x} - \\frac{\\partial \\overline{u'v'}}{\\partial y} - \\frac{\\partial \\overline{u'w'}}{\\partial z} $$\n",
    "$$ \\frac{\\partial v}{\\partial t} + u_i \\frac{\\partial v}{\\partial x_i} + fu = -\\frac{1}{\\rho}\\frac{\\partial P}{\\partial y}  - \\frac{\\partial \\overline{v'u'}}{\\partial x} - \\frac{\\partial \\overline{v'v'}}{\\partial y} - \\frac{\\partial \\overline{v'w'}}{\\partial z} $$\n",
    "\n",
    "If we neglect large-scale advection and subsidence and assume stationarity, the first two terms cancel. The pressure gradient term can be eliminated by substituting the expressions for geostropich balance,\n",
    "\n",
    "$$ fv_g = \\frac{1}{\\rho}\\frac{\\partial P}{\\partial x} $$\n",
    "$$ -fu_g = \\frac{1}{\\rho}\\frac{\\partial P}{\\partial y} $$\n",
    "\n",
    "Finally, we assume that the momentum fluxes in the last terms can be approximated with first order closure, \n",
    "\n",
    "$$ \\overline{u'w'} = - K \\frac{\\partial u}{\\partial z}$$\n",
    "$$ \\overline{v'w'} = - K \\frac{\\partial v}{\\partial z}$$\n",
    "\n",
    "We could do likewise for the horizontal fluxes, but considering that horizontal gradients are generally small compared to vertical gradients, we also discard these terms. This leaves us with\n",
    "\n",
    "$$ -fv = -fv_g + \\frac{\\partial}{\\partial z} \\left(K \\frac{\\partial u}{\\partial z}\\right)$$\n",
    "$$ fu = fu_g + \\frac{\\partial}{\\partial z} \\left(K \\frac{\\partial v}{\\partial z}\\right)$$\n",
    "\n",
    "We can rewrite this as\n",
    "\n",
    "$$ -f(v-v_g) = \\frac{\\partial}{\\partial z} \\left(K \\frac{\\partial u}{\\partial z}\\right)$$\n",
    "$$ f(u-u_g) = \\frac{\\partial}{\\partial z} \\left(K \\frac{\\partial v}{\\partial z}\\right)$$\n",
    "\n",
    "These coupled equations define the Ekman spiral. If K would be constant, the expressions are somewhat simplified\n",
    "\n",
    "$$ K\\frac{\\partial^2u}{\\partial z^2} = -f(v-v_g) $$\n",
    "$$ K\\frac{\\partial^2v}{\\partial z^2} = f(u-u_g) $$\n",
    "\n",
    "An analytical solution for this system can be found by defining a complex velocity $ W = u + iv $, such that the two equations can be combined into one. To this end, the meridional equation is multiplied by $i = \\sqrt{-1}$ and subsequently added to the lateral equation:\n",
    "\n",
    "$$ iK\\frac{\\partial^2v}{\\partial z^2} = if(u-u_g) $$\n",
    "$$ K\\frac{\\partial^2u}{\\partial z^2}+iK\\frac{\\partial^2v}{\\partial z^2} = -f(v-v_g) + if(u-u_g) $$\n",
    "$$ K\\frac{\\partial^2W}{\\partial z^2} = if(u+iv) - if(u_g-iv_g)$$\n",
    "$$ \\frac{\\partial^2W}{\\partial z^2} - \\frac{if}{K}W + \\frac{if}{K}W_g = 0$$\n",
    "\n",
    "This is an inhomogeneous, second order differential equation, which can be solved in two steps. First, we find a particular integral, by realizing that one solution to the problem would be that z is independent of height. This solution is given by\n",
    "\n",
    "$$  \\frac{if}{K}W = \\frac{if}{K}W_g $$\n",
    "\n",
    "from which it follows that $ W = W_g $. Then the homogeneous part of the differential equation is solved by substituting a trial solution of the form $W(z) = A \\exp(\\lambda z)$, which gives:\n",
    "\n",
    "$$ \\frac{\\partial^2W}{\\partial z^2} = \\frac{if}{K}W $$\n",
    "$$ \\lambda^2 A \\exp(\\lambda z) = \\frac{if}{K} A \\exp(\\lambda z) $$\n",
    "$$ \\lambda^2 = \\frac{if}{K} $$\n",
    "$$ \\lambda = \\pm \\sqrt{\\frac{if}{K}} $$\n",
    "$$ \\lambda = \\pm (1+i)\\sqrt{\\frac{f}{2K}} = \\pm (1+i) \\gamma $$\n",
    "\n",
    "where $ \\sqrt{i} = \\frac{1+i}{\\sqrt{2}} $ is used in the last step and $\\gamma^{-1}$ is known as the 'Ekman depth'. Substituting these roots in the solution gives\n",
    "\n",
    "$$ W(z) = A \\exp((\\gamma + i\\gamma) z) + B \\exp((-\\gamma - i\\gamma) z) $$\n",
    "\n",
    "Now, the first term on the right-hand side, grows exponentially with z. This is not a physical solution, since we expect $W$ to converge to $W_g$ at the top of the Ekman layer, and therefore this term must be discarded. This leaves us with the physical solution\n",
    "\n",
    "$$ W(z) = W_g + B \\exp((-\\gamma - i\\gamma) z) $$\n",
    "\n",
    "where the particular solution $W = W_g$ has been substituted in the solution of the homogeneous equation. To find B, we insert the boundary condition $ W(0) = 0$, which yields\n",
    "\n",
    "$$ W_g + B \\exp(0) = 0 $$\n",
    "\n",
    "yielding $B = -W_g$ and the complete solution\n",
    "\n",
    "$$ W(z) = W_g \\left[1 - \\exp(-\\gamma z)\\exp(-i\\gamma z) \\right]$$\n",
    "\n",
    "Using Euler's formula $\\exp(-ix) = \\cos(x) -i \\sin(x)$ we can split the complex exponential terms in a real and imaginary part\n",
    "\n",
    "$$ u(z) + iv(z) = ( u_g + iv_g ) \\left[1 - \\exp(-\\gamma z)\\cos(\\gamma z) + i\\exp(-\\gamma z)\\sin(\\gamma z) \\right]$$\n",
    "$$ u(z) + iv(z) = u_g - u_g \\exp(-\\gamma z)\\cos(\\gamma z) + iu_g \\exp(-\\gamma z)\\sin(\\gamma z) + iv_g - iv_g\\exp(-\\gamma z)\\cos(\\gamma z) - v_g \\exp(-\\gamma z)\\sin(\\gamma z)$$\n",
    "\n",
    "so that we can finally retrieve the equations for u and v seperately\n",
    "\n",
    "$$ u(z) = u_g - u_g \\exp(-\\gamma z)\\cos(\\gamma z) - v_g \\exp(-\\gamma z)\\sin(\\gamma z) $$\n",
    "$$ v(z) = v_g - v_g \\exp(-\\gamma z)\\cos(\\gamma z) + u_g \\exp(-\\gamma z)\\sin(\\gamma z)  $$\n",
    "\n",
    "Let's implement this system in Python."
   ]
  },
  {
   "cell_type": "code",
   "execution_count": 64,
   "metadata": {},
   "outputs": [
    {
     "data": {
      "image/png": "[encoded data removed]",
      "text/plain": [
       "<matplotlib.figure.Figure at 0x7fb00960ce50>"
      ]
     },
     "metadata": {},
     "output_type": "display_data"
    }
   ],
   "source": [
    "# Import packages\n",
    "import numpy as np\n",
    "import matplotlib.pyplot as plt\n",
    "%matplotlib inline\n",
    "\n",
    "# Set parameters\n",
    "ug = 10.; vg = 0.\n",
    "f = 1e-4; K = 10.\n",
    "gamma = np.sqrt(f/(2*K))\n",
    "\n",
    "def uwind(ug,vg,gamma,z):\n",
    "    return ug - ug*np.exp(-gamma*z)*np.cos(gamma*z) - vg*np.exp(-gamma*z)*np.sin(gamma*z)\n",
    "\n",
    "def vwind(ug,vg,gamma,z):\n",
    "    return vg - vg*np.exp(-gamma*z)*np.cos(gamma*z) + ug*np.exp(-gamma*z)*np.sin(gamma*z)\n",
    "\n",
    "z = np.arange(2001)\n",
    "u = uwind(ug,vg,gamma,z)\n",
    "v = vwind(ug,vg,gamma,z)\n",
    "\n",
    "\n",
    "f,ax = plt.subplots(1,2,figsize=(12,5))\n",
    "ax[0].plot(u,z,v,z)\n",
    "ax[1].plot(u,v)\n",
    "plt.show()"
   ]
  },
  {
   "cell_type": "markdown",
   "metadata": {},
   "source": [
    "Alternatively, we may try to solve the system numerically. We can start with an initial assumption for the profile and iteratively solve for u and v. Let's keep K constant first and then try it with z-dependent K where we can use the fixed-K profile as initial guess.\n",
    "\n",
    "The expressions for u and v with time dependency reitroduced, are:\n",
    "\n",
    "$$ \\frac{\\partial u}{\\partial t} = f(v-v_g)+\\frac{\\partial}{\\partial z}\\left[K \\frac{\\partial u}{\\partial z} \\right] $$\n",
    "$$ \\frac{\\partial v}{\\partial t} = -f(u-u_g)+\\frac{\\partial}{\\partial z}\\left[K \\frac{\\partial v}{\\partial z} \\right] $$"
   ]
  },
  {
   "cell_type": "code",
   "execution_count": 103,
   "metadata": {},
   "outputs": [
    {
     "data": {
      "image/png": "[encoded data removed]",
      "text/plain": [
       "<matplotlib.figure.Figure at 0x7fb0096a9c10>"
      ]
     },
     "metadata": {},
     "output_type": "display_data"
    }
   ],
   "source": [
    "# Import packages\n",
    "import numpy as np\n",
    "import matplotlib.pyplot as plt\n",
    "%matplotlib inline\n",
    "\n",
    "# Defining functions\n",
    "def uwind(f,v,vg,K,u,dt):\n",
    "    coriolis = f*(v-vg)\n",
    "    d_u = np.gradient(u)\n",
    "    d_uw = K*np.gradient(d_u)\n",
    "    tendency = coriolis+d_uw\n",
    "    new_u = u + tendency*dt\n",
    "    return new_u\n",
    "\n",
    "def vwind(f,u,ug,K,v,dt):\n",
    "    coriolis = -f*(u-ug)\n",
    "    d_v = np.gradient(v)\n",
    "    d_vw = np.gradient(K*d_v)\n",
    "    tendency = coriolis+d_vw\n",
    "    new_v = v + tendency*dt\n",
    "    return new_v\n",
    "\n",
    "# Set parameters\n",
    "ug = 10.; vg = 0.\n",
    "f = 1e-4; K = 10.\n",
    "dt = 0.1\n",
    "\n",
    "z = np.arange(2000)+1\n",
    "u = np.log(z/0.002)\n",
    "v = 0.3*np.log(z/0.002)\n",
    "\n",
    "plt.plot(u,z,v,z)\n",
    "\n",
    "for i in range(20000):\n",
    "  u = uwind(f,v,vg,K,u,dt)  \n",
    "  v = vwind(f,u,ug,K,v,dt)\n",
    "    \n",
    "plt.plot(u,z,v,z)\n",
    "    \n",
    "plt.show()\n",
    "\n"
   ]
  },
  {
   "cell_type": "markdown",
   "metadata": {},
   "source": [
    "## Realistic K-profile\n",
    "The K-profile is not constant in reality. Rather, it has the form\n",
    "\n",
    "$$ K(z) = \\frac{\\kappa u_* z}{1+\\alpha \\frac{z}{L}}\\left(1-\\frac{z}{h}\\right)^2 $$\n",
    "\n",
    "This looks like:"
   ]
  },
  {
   "cell_type": "code",
   "execution_count": 2,
   "metadata": {},
   "outputs": [
    {
     "data": {
      "text/plain": [
       "<function matplotlib.pyplot.show>"
      ]
     },
     "execution_count": 2,
     "metadata": {},
     "output_type": "execute_result"
    },
    {
     "data": {
      "image/png": "[encoded data removed]",
      "text/plain": [
       "<matplotlib.figure.Figure at 0x7f3412799bd0>"
      ]
     },
     "metadata": {},
     "output_type": "display_data"
    }
   ],
   "source": [
    "# Import packages\n",
    "import numpy as np\n",
    "import matplotlib.pyplot as plt\n",
    "%matplotlib inline\n",
    "\n",
    "def kprofile(z):\n",
    "    '''\n",
    "    Bert's notes\n",
    "    '''\n",
    "    kappa = 0.4 # Von Karman constant\n",
    "    ust = 0.3 # just a guess\n",
    "    alpha = 5. # stability function\n",
    "    L = 500. # Obukhov length\n",
    "    h = float(len(z))\n",
    "    return kappa*ust*z/(1+alpha*z/L)*(1-z/h)**2\n",
    "\n",
    "z = np.arange(2001)\n",
    "K = kprofile(z)\n",
    "\n",
    "plt.plot(K,z)\n",
    "plt.show"
   ]
  },
  {
   "cell_type": "markdown",
   "metadata": {},
   "source": [
    "In general, K varies with height and stability:\n",
    "\n",
    "$$ K(z) = \\frac{\\kappa u_* z}{1+\\alpha \\frac{z}{L}}\\left(1-\\frac{z}{h}\\right)^2 $$\n",
    "\n",
    "where the Businger-Dyer function for stable stratification is recognizable in the denominator. Our aim is to find a z-averaged K-function that is still stability-dependent. As such, we seek to integrate\n",
    "\n",
    "$$ \\overline{K} =  \\int_0^1 K\\left(\\frac{z}{h}\\right) \\, d\\left(\\frac{z}{h}\\right) $$\n",
    "\n",
    "which can be written as\n",
    "\n",
    "$$ \\overline{K} = \\frac{\\kappa u_*}{h} \\int_0^1 \\frac{x \\left(1-x\\right)^2}{1+\\alpha \\frac{h}{L}x} \\, dx$$\n",
    "\n",
    "with $x = z/h$. Expanding the numerator and defining $\\alpha' = \\alpha h/l$ gives\n",
    "\n",
    "$$ \\overline{K} = \\frac{\\kappa u_*}{h} \\int_0^1 \\frac{x^3-2x^2+x}{1+\\alpha'x} \\, dx$$\n",
    "\n",
    "The integral in this equation can be solved by successive partial integration:\n",
    "\n",
    "$$ \n",
    "\\begin{align}\n",
    " & \\int \\frac{x^3-2x^2+x}{1+\\alpha'x} \\, dx \\\\\n",
    "&= \\frac{(x^3-2x^2+x)}{\\alpha'} \\ln(1+\\alpha'x) - \\int (3x^2-4x+1)(1+\\alpha'x)^{-1} \\,dx \\\\\n",
    "&= \\frac{(x^3-2x^2+x)}{\\alpha'} \\ln(1+\\alpha'x) - \\left[\\frac{(3x^2-4x+1)}{\\alpha'} \\ln(1+\\alpha'x) -\\int (6x-4)(1+\\alpha'x)^{-1} \\,dx \\right]\\\\\n",
    "&= \\frac{(x^3-2x^2+x)}{\\alpha'} \\ln(1+\\alpha'x) - \\left[\\frac{(3x^2-4x+1)}{\\alpha'} \\ln(1+\\alpha'x) - \\left[\\frac{(6x-4)}{\\alpha'} \\ln(1+\\alpha'x) -\\int 6(1+\\alpha'x)^{-1} \\,dx \\right]\\right]\\\\\n",
    "&= \\frac{(x^3-2x^2+x)}{\\alpha'} \\ln(1+\\alpha'x) - \\left[\\frac{(3x^2-4x+1)}{\\alpha'} \\ln(1+\\alpha'x) - \\left[\\frac{(6x-4)}{\\alpha'} \\ln(1+\\alpha'x) - \\frac{6}{\\alpha'} \\ln(1+\\alpha'x)\\right]\\right]\\\\\n",
    "&= \\frac{x^3-5x^2+11x-11}{\\alpha'} \\ln(1+\\alpha'x)\n",
    "\\end{align}\n",
    "$$\n"
   ]
  },
  {
   "cell_type": "code",
   "execution_count": 183,
   "metadata": {},
   "outputs": [
    {
     "name": "stdout",
     "output_type": "stream",
     "text": [
      "integral value is -49914.0770194\n"
     ]
    },
    {
     "data": {
      "image/png": "[encoded data removed]",
      "text/plain": [
       "<matplotlib.figure.Figure at 0x7faff0debe50>"
      ]
     },
     "metadata": {},
     "output_type": "display_data"
    }
   ],
   "source": [
    "# Import packages\n",
    "import numpy as np\n",
    "import matplotlib.pyplot as plt\n",
    "%matplotlib inline\n",
    "\n",
    "def kmean(alpha,x):\n",
    "    return 0.4*0.3*2000.*(x**3-5*x**2+11*x-11)/alpha*np.log(1+alpha*x)\n",
    "\n",
    "\n",
    "h = 2000.\n",
    "L = 800.\n",
    "alpha = 4.7*h/L\n",
    "z = np.arange(0,1,0.01)\n",
    "ahh = kmean(alpha,z)\n",
    "\n",
    "plt.plot(ahh,z)\n",
    "plt.show\n",
    "\n",
    "print 'integral value is',0.4*0.3*2000.*kmean(alpha,1.)-0.4*0.3*2000.*kmean(alpha,0.)\n"
   ]
  },
  {
   "cell_type": "code",
   "execution_count": null,
   "metadata": {
    "collapsed": true
   },
   "outputs": [],
   "source": []
  }
 ],
 "metadata": {
  "kernelspec": {
   "display_name": "Python 2",
   "language": "python",
   "name": "python2"
  },
  "language_info": {
   "codemirror_mode": {
    "name": "ipython",
    "version": 2
   },
   "file_extension": ".py",
   "mimetype": "text/x-python",
   "name": "python",
   "nbconvert_exporter": "python",
   "pygments_lexer": "ipython2",
   "version": "2.7.13"
  }
 },
 "nbformat": 4,
 "nbformat_minor": 1
}
