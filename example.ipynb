{
 "cells": [
  {
   "cell_type": "code",
   "execution_count": 1,
   "metadata": {},
   "outputs": [],
   "source": [
    "import numpy as np\n",
    "import matplotlib.pyplot as plt\n",
    "%matplotlib inline"
   ]
  },
  {
   "cell_type": "code",
   "execution_count": 17,
   "metadata": {},
   "outputs": [
    {
     "data": {
      "text/plain": [
       "[<matplotlib.text.Text at 0x7ff4efde3890>,\n",
       " <matplotlib.text.Text at 0x7ff4efcd5b50>,\n",
       " <matplotlib.text.Text at 0x7ff4efc22210>,\n",
       " <matplotlib.text.Text at 0x7ff4efc22910>,\n",
       " <matplotlib.text.Text at 0x7ff4efbae050>,\n",
       " <matplotlib.text.Text at 0x7ff4efbae750>,\n",
       " <matplotlib.text.Text at 0x7ff4efbaee50>,\n",
       " <matplotlib.text.Text at 0x7ff4efbb9590>,\n",
       " <matplotlib.text.Text at 0x7ff4efbb9c90>,\n",
       " <matplotlib.text.Text at 0x7ff4efbc43d0>]"
      ]
     },
     "execution_count": 17,
     "metadata": {},
     "output_type": "execute_result"
    },
    {
     "data": {
      "image/png": "[encoded data removed]",
      "text/plain": [
       "<matplotlib.figure.Figure at 0x7ff4eff32410>"
      ]
     },
     "metadata": {},
     "output_type": "display_data"
    }
   ],
   "source": [
    "allsites = [x for x in 'ABCDEFGHIJ']\n",
    "\n",
    "alldata = []\n",
    "for x in range(10):\n",
    "    data = np.random.randn(10).mean()\n",
    "    alldata.append(data)\n",
    "    \n",
    "xcoords = range(10)\n",
    "\n",
    "fig,ax = plt.subplots()\n",
    "ax.bar(xcoords,alldata)\n",
    "ax.set_xticks(xcoords)\n",
    "ax.set_xticklabels(allsites)"
   ]
  },
  {
   "cell_type": "code",
   "execution_count": null,
   "metadata": {},
   "outputs": [],
   "source": []
  },
  {
   "cell_type": "code",
   "execution_count": null,
   "metadata": {},
   "outputs": [],
   "source": []
  }
 ],
 "metadata": {
  "kernelspec": {
   "display_name": "Python 2",
   "language": "python",
   "name": "python2"
  },
  "language_info": {
   "codemirror_mode": {
    "name": "ipython",
    "version": 2
   },
   "file_extension": ".py",
   "mimetype": "text/x-python",
   "name": "python",
   "nbconvert_exporter": "python",
   "pygments_lexer": "ipython2",
   "version": "2.7.12"
  }
 },
 "nbformat": 4,
 "nbformat_minor": 2
}
